{
 "cells": [
  {
   "cell_type": "code",
   "execution_count": 2,
   "metadata": {},
   "outputs": [],
   "source": [
    "! g++ main.cpp -o main.out"
   ]
  },
  {
   "cell_type": "markdown",
   "metadata": {},
   "source": [
    "Ejecutar ./main.out con los siguientes argumentos:\n",
    "\n",
    "        <in.txt> <out.txt> <layers> \n",
    "\n",
    "        <neurons_in_layer(1)> <neurons_in_layer(2)> <neurons_in_layer(layers)>\n",
    "        \n",
    "        <activation_function> <epoch> <alpha> <debug> <seed>\n",
    "        "
   ]
  },
  {
   "cell_type": "code",
   "execution_count": 26,
   "metadata": {},
   "outputs": [
    {
     "name": "stdout",
     "output_type": "stream",
     "text": [
      "x_train:[0,0]()\n",
      "y_train:[0,0]()\n",
      "layer 1 with 3 neurons\n",
      "layer 2 with 4 neurons\n",
      "3 matrices of weights\n",
      "Matrix 0: [1,3]((0.946134,0.759504,0.568776))\n",
      "Matrix 1: [4,4]((0.365942,0.0407869,0.582491,0.0371633),(0.891006,0.230946,0.00526713,0.603181),(0.913095,0.807863,0.617569,0.0357178),(0.865941,0.423935,0.847027,0.692315))\n",
      "Matrix 2: [5,0]((),(),(),(),())\n",
      "\n",
      "\n",
      "*************************Epoch 1*************************\n",
      "\n",
      "-------------Forward propagation------------\n",
      "\n",
      "-----------Forward propagation End----------\n",
      "\n",
      "------------Error---------------\n",
      "out_o = [0,0]()\n",
      "out_o_softmax = [0,0]()\n",
      "y_train = [0,0]()\n",
      "y_validation = [0,0]()\n",
      "error_matrix_training = [0,0]()\n",
      "error_matrix_validation = [0,0]()\n",
      "square error training = [0,0]()\n",
      "square error validation = [0,0]()\n",
      "square / 2.0 error training = [0,0]()\n",
      "square / 2.0 error validation = [0,0]()\n",
      "Error training: 0\n",
      "Error validation: 0\n",
      "\n",
      "----------Error End-------------\n",
      "\n",
      "------------Backward propagation------------\n",
      "In matrix 2:\n",
      "Ws_derivades[2] = [5,0]((),(),(),(),())\n",
      "In matrix 1:\n",
      "Ws_derivades[1] = [4,4]((0,0,0,0),(0,0,0,0),(0,0,0,0),(0,0,0,0))\n",
      "In matrix 0:\n",
      "Ws_derivades[0] = [1,3]((0,0,0))\n",
      "\n",
      "Prev Ws:\n",
      "\tW[0] = [1,3]((0.946134,0.759504,0.568776))\n",
      "\tW[1] = [4,4]((0.365942,0.0407869,0.582491,0.0371633),(0.891006,0.230946,0.00526713,0.603181),(0.913095,0.807863,0.617569,0.0357178),(0.865941,0.423935,0.847027,0.692315))\n",
      "\tW[2] = [5,0]((),(),(),(),())\n",
      "Ws_derivades:\n",
      "\tW_deriv[0] = [1,3]((0,0,0))\n",
      "\tW_deriv[1] = [4,4]((0,0,0,0),(0,0,0,0),(0,0,0,0),(0,0,0,0))\n",
      "\tW_deriv[2] = [5,0]((),(),(),(),())\n",
      "Post Ws:\n",
      "\tW[0] = [1,3]((0.946134,0.759504,0.568776))\n",
      "\tW[1] = [4,4]((0.365942,0.0407869,0.582491,0.0371633),(0.891006,0.230946,0.00526713,0.603181),(0.913095,0.807863,0.617569,0.0357178),(0.865941,0.423935,0.847027,0.692315))\n",
      "\tW[2] = [5,0]((),(),(),(),())\n",
      "\n",
      "----------Backward propagation End----------\n",
      "out_o_softmax = [0,0]()\n",
      "y_train = [0,0]()\n",
      "*************************Fin de entrenamiento*************************\n"
     ]
    }
   ],
   "source": [
    "! ./main.out input.txt output.txt 2 3 4 sigmoid 1 0.5 1 30"
   ]
  }
 ],
 "metadata": {
  "interpreter": {
   "hash": "916dbcbb3f70747c44a77c7bcd40155683ae19c65e1c03b4aa3499c5328201f1"
  },
  "kernelspec": {
   "display_name": "Python 3.8.10 64-bit",
   "language": "python",
   "name": "python3"
  },
  "language_info": {
   "codemirror_mode": {
    "name": "ipython",
    "version": 3
   },
   "file_extension": ".py",
   "mimetype": "text/x-python",
   "name": "python",
   "nbconvert_exporter": "python",
   "pygments_lexer": "ipython3",
   "version": "3.8.10"
  },
  "orig_nbformat": 4
 },
 "nbformat": 4,
 "nbformat_minor": 2
}
