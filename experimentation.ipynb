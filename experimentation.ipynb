{
 "cells": [
  {
   "cell_type": "markdown",
   "metadata": {},
   "source": [
    "# Experimentación\n",
    "\n",
    "En este documento, se realizan los experimentos para mostrar los resultados de entrenar al modelo implementado en MLP.cpp y en main.cpp"
   ]
  },
  {
   "cell_type": "markdown",
   "metadata": {},
   "source": [
    "## Librerías"
   ]
  },
  {
   "cell_type": "code",
   "execution_count": 1,
   "metadata": {},
   "outputs": [],
   "source": [
    "import json\n",
    "from os import getcwd\n",
    "from sklearn import metrics\n",
    "import matplotlib.pyplot as plt\n",
    "import os\n",
    "import pywt\n",
    "import json\n",
    "import numpy as np\n",
    "from sklearn.decomposition import PCA\n",
    "from PIL import Image\n",
    "from os import getcwd, listdir\n",
    "from os.path import join\n",
    "import random"
   ]
  },
  {
   "cell_type": "markdown",
   "metadata": {},
   "source": [
    "## Compilación de la clase MLP\n",
    "La siguiente línea de comando, compilará los archivos en C++ *main* y *MLP*. En *main.cpp* se procesa la entrada, acciones sobre el modelo y la salida, y en el archivo *MLP.cpp* se implementa el *Multilayer Perceptron*. Se generará el archivo ejecutable *main.out*, para ser usado en la experimentación. En caso no se tenga instalada la librería jsoncpp, puede instalarla con el comando *sudo apt-get install libjsoncpp-dev*"
   ]
  },
  {
   "cell_type": "code",
   "execution_count": 5,
   "metadata": {},
   "outputs": [
    {
     "data": {
      "text/plain": [
       "0"
      ]
     },
     "execution_count": 5,
     "metadata": {},
     "output_type": "execute_result"
    }
   ],
   "source": [
    "os.system('g++ main.cpp -o main.out -ljsoncpp')"
   ]
  },
  {
   "cell_type": "markdown",
   "metadata": {},
   "source": [
    "En la carpeta *encodes* debemos guardar la base de datos que ingresará al modelo en formato json y con los campos indicados en el informe. Luego, con la siguiente línea de comandos, crearemos el MLP, lo entrenamos y entregará sus resultados (errores de entrenamiento y validación, y salidas para cada uno de los datos ingresados en entrenamiento, validación y testeo) en la carpeta *errors* en un archivo *json* en el formato indicado en el informe.\n",
    "\n",
    "        <in.txt> <out.txt> <layers> \n",
    "\n",
    "        <neurons_in_layer(1)> <neurons_in_layer(2)> ... <neurons_in_layer(layers)>\n",
    "        \n",
    "        <activation_function> <epoch> <alpha> <debug> <seed>"
   ]
  },
  {
   "cell_type": "markdown",
   "metadata": {},
   "source": [
    "## Preprocesamiento\n",
    "El preprocesamiento de los datos se realiza en el archivo *img_encoder.ipynb*, el cual genera los archivos *json* en la carpeta *encodes* a partir de la base de datos."
   ]
  },
  {
   "cell_type": "markdown",
   "metadata": {},
   "source": [
    "Variales globales necesarias para la experimentación."
   ]
  },
  {
   "cell_type": "code",
   "execution_count": 2,
   "metadata": {},
   "outputs": [],
   "source": [
    "PATH = getcwd() \n",
    "PATH_ERR = PATH + \"/errors\"\n",
    "PATH_DAT = PATH + \"/encodes\""
   ]
  },
  {
   "cell_type": "markdown",
   "metadata": {},
   "source": [
    "## Clase *ErrorViewer*\n",
    "Esta clase mostrará las gráficas de errores tanto en entrenamiento como en validación, y procesará las salidas obtenidas por el modelo para cada dato en entrenamiento, validación y testeo, con el fin de obtener la presición del modelo entrenado."
   ]
  },
  {
   "cell_type": "code",
   "execution_count": 3,
   "metadata": {},
   "outputs": [],
   "source": [
    "class ErrorViewer:\n",
    "\n",
    "    def __init__(self, file_label: str):\n",
    "        self.err_keys = ['errors_training', 'errors_validation']\n",
    "        self.out_keys = ['output_testing', 'output_training', 'output_validation']\n",
    "        if not file_label.endswith(\".json\"):\n",
    "            file_label += \".json\"\n",
    "        self.err_info = json.load(open(PATH_ERR + \"/\" + file_label))\n",
    "        self.file_label = file_label\n",
    "\n",
    "    def calc_error(self):\n",
    "        print(f\"[ErrorViewer]: Se van a graficar los datos de '{self.file_label}'.\")\n",
    "        plt.plot(self.err_info[self.err_keys[0]], label=\"Training\")\n",
    "        plt.plot(self.err_info[self.err_keys[1]], label=\"Validation\")\n",
    "        plt.legend()\n",
    "        plt.xlabel(\"Epoch\")\n",
    "        plt.ylabel(\"Error\")\n",
    "        plt.show()\n",
    "\n",
    "    def perf_analysis(self, data_label: str):\n",
    "        print(f\"[ErrorViewer]: Se van a clasificar los datos de '{data_label}'.\")\n",
    "        if not data_label.endswith(\".json\"):\n",
    "            data_label += \".json\"\n",
    "        path_to_data = PATH_DAT + \"/\" + data_label\n",
    "        data_info = json.load(open(path_to_data))\n",
    "        self.__calc_stats(data_info)\n",
    "\n",
    "    def __calc_stats(self,data_info: dict):\n",
    "        class_labels = [\"Test\", \"Train\", \"Validation\"]\n",
    "        real_classes = [data_info[cl][\"Classes\"] for cl in class_labels]\n",
    "        pred_classes = [self.err_info[cl] for cl in self.out_keys]\n",
    "        curr_class = 0\n",
    "        for o,c in zip(pred_classes, real_classes):\n",
    "            tn, fn, fp, tp = 0,0,0,0\n",
    "            pred_values = [tn,fn,fp,tp]\n",
    "            for y_pred,y_real in zip(o,c):\n",
    "                pred_class = max(y_pred)\n",
    "                y_pred = [int(x==pred_class) for x in y_pred]\n",
    "                pred_iter = metrics.confusion_matrix(y_real, y_pred).ravel()\n",
    "                pred_values = [x + x_iter for x,x_iter in zip(pred_values, pred_iter)]\n",
    "            tn, fn, fp, tp = pred_values\n",
    "            accuracy = (tp + tn) / (tp + fp + fn + tn) * 100.0\n",
    "            precision = tp  / (tp + fp) * 100.0\n",
    "            recall = tp / (tp + fn) * 100.0\n",
    "            f1_score = 2 * (recall * precision) / (recall + precision)\n",
    "            print(f\"[ErrorViewer] On {class_labels[curr_class]}:\")\n",
    "            print(f\"\\t[ErrorViewer] ACCURACY = {round(accuracy,3)} %\")\n",
    "            print(f\"\\t[ErrorViewer] PRECISION = {round(precision,3)} %\")\n",
    "            print(f\"\\t[ErrorViewer] RECALL = {round(recall,3)} %\")\n",
    "            print(f\"\\t[ErrorViewer] F1 SCORE = {round(f1_score,3)} %\")\n",
    "            print(f\"\\t[ErrorViewer] Values are tn,fn,fp,tp = {pred_values} %\")\n",
    "            curr_class += 1"
   ]
  },
  {
   "cell_type": "markdown",
   "metadata": {},
   "source": [
    "## Experimentos"
   ]
  },
  {
   "cell_type": "code",
   "execution_count": 11,
   "metadata": {},
   "outputs": [
    {
     "name": "stdout",
     "output_type": "stream",
     "text": [
      "sigmoid finish\n",
      "[ErrorViewer]: Se van a graficar los datos de 'error_1_sigmoid.json'.\n"
     ]
    },
    {
     "data": {
      "image/png": "[encoded data removed]",
      "text/plain": [
       "<Figure size 432x288 with 1 Axes>"
      ]
     },
     "metadata": {
      "needs_background": "light"
     },
     "output_type": "display_data"
    },
    {
     "name": "stdout",
     "output_type": "stream",
     "text": [
      "[ErrorViewer]: Se van a clasificar los datos de 'img_encodings_1.json'.\n",
      "[ErrorViewer] On Test:\n",
      "\t[ErrorViewer] ACCURACY = 83.095 %\n",
      "\t[ErrorViewer] PRECISION = 10.811 %\n",
      "\t[ErrorViewer] RECALL = 9.524 %\n",
      "\t[ErrorViewer] F1 SCORE = 10.127 %\n",
      "\t[ErrorViewer] Values are tn,fn,fp,tp = [690, 76, 66, 8] %\n",
      "[ErrorViewer] On Train:\n",
      "\t[ErrorViewer] ACCURACY = 83.353 %\n",
      "\t[ErrorViewer] PRECISION = 13.289 %\n",
      "\t[ErrorViewer] RECALL = 12.03 %\n",
      "\t[ErrorViewer] F1 SCORE = 12.628 %\n",
      "\t[ErrorViewer] Values are tn,fn,fp,tp = [5463, 585, 522, 80] %\n",
      "[ErrorViewer] On Validation:\n",
      "\t[ErrorViewer] ACCURACY = 82.53 %\n",
      "\t[ErrorViewer] PRECISION = 6.944 %\n",
      "\t[ErrorViewer] RECALL = 6.024 %\n",
      "\t[ErrorViewer] F1 SCORE = 6.452 %\n",
      "\t[ErrorViewer] Values are tn,fn,fp,tp = [680, 78, 67, 5] %\n"
     ]
    }
   ],
   "source": [
    "FILE_IN = 'img_encodings_1.json'\n",
    "FILE_OUT = 'error_1'\n",
    "NEURONS = '5 60 40 30 20 15'\n",
    "ACT_FUNCTION = 'sigmoid'\n",
    "EPOCH = '50'\n",
    "LEARNING_COEF = '0.0005'\n",
    "SEED = '1'\n",
    "os.system('./main.out encodes/' + FILE_IN + ' errors/' + FILE_OUT + ' ' + NEURONS + ' ' + ACT_FUNCTION + ' ' + EPOCH + ' ' + LEARNING_COEF + ' 0 ' + SEED)\n",
    "ev = ErrorViewer(FILE_OUT + '_' + ACT_FUNCTION)\n",
    "ev.calc_error()\n",
    "ev.perf_analysis(FILE_IN)"
   ]
  }
 ],
 "metadata": {
  "kernelspec": {
   "display_name": "Python 3.8.10 64-bit",
   "language": "python",
   "name": "python3"
  },
  "language_info": {
   "codemirror_mode": {
    "name": "ipython",
    "version": 3
   },
   "file_extension": ".py",
   "mimetype": "text/x-python",
   "name": "python",
   "nbconvert_exporter": "python",
   "pygments_lexer": "ipython3",
   "version": "3.8.10"
  },
  "orig_nbformat": 4,
  "vscode": {
   "interpreter": {
    "hash": "916dbcbb3f70747c44a77c7bcd40155683ae19c65e1c03b4aa3499c5328201f1"
   }
  }
 },
 "nbformat": 4,
 "nbformat_minor": 2
}
