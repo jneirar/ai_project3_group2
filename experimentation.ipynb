{
 "cells": [
  {
   "cell_type": "markdown",
   "metadata": {},
   "source": [
    "# Experimentación\n",
    "\n",
    "En este documento, se realizan los experimentos para mostrar los resultados de entrenar al modelo implementado en MLP.cpp y en main.cpp"
   ]
  },
  {
   "cell_type": "markdown",
   "metadata": {},
   "source": [
    "## Librerías"
   ]
  },
  {
   "cell_type": "code",
   "execution_count": 1,
   "metadata": {},
   "outputs": [],
   "source": [
    "import json\n",
    "from os import getcwd\n",
    "from sklearn import metrics\n",
    "import matplotlib.pyplot as plt\n",
    "import os\n",
    "import pywt\n",
    "import json\n",
    "import numpy as np\n",
    "from sklearn.decomposition import PCA\n",
    "from PIL import Image\n",
    "from os import getcwd, listdir\n",
    "from os.path import join\n",
    "import random"
   ]
  },
  {
   "cell_type": "markdown",
   "metadata": {},
   "source": [
    "## Compilación de la clase MLP\n",
    "La siguiente línea de comando, compilará los archivos en C++ *main* y *MLP*. En *main.cpp* se procesa la entrada, acciones sobre el modelo y la salida, y en el archivo *MLP.cpp* se implementa el *Multilayer Perceptron*. Se generará el archivo ejecutable *main.out*, para ser usado en la experimentación. En caso no se tenga instalada la librería jsoncpp, puede instalarla con el comando *sudo apt-get install libjsoncpp-dev*"
   ]
  },
  {
   "cell_type": "code",
   "execution_count": 5,
   "metadata": {},
   "outputs": [
    {
     "data": {
      "text/plain": [
       "0"
      ]
     },
     "execution_count": 5,
     "metadata": {},
     "output_type": "execute_result"
    }
   ],
   "source": [
    "os.system('g++ main.cpp -o main.out -ljsoncpp')"
   ]
  },
  {
   "cell_type": "markdown",
   "metadata": {},
   "source": [
    "En la carpeta *encodes* debemos guardar la base de datos que ingresará al modelo en formato json y con los campos indicados en el informe. Luego, con la siguiente línea de comandos, crearemos el MLP, lo entrenamos y entregará sus resultados (errores de entrenamiento y validación, y salidas para cada uno de los datos ingresados en entrenamiento, validación y testeo) en la carpeta *errors* en un archivo *json* en el formato indicado en el informe.\n",
    "\n",
    "        <in.txt> <out.txt> <layers> \n",
    "\n",
    "        <neurons_in_layer(1)> <neurons_in_layer(2)> ... <neurons_in_layer(layers)>\n",
    "        \n",
    "        <activation_function> <epoch> <alpha> <debug> <seed>"
   ]
  },
  {
   "cell_type": "markdown",
   "metadata": {},
   "source": [
    "## Preprocesamiento\n",
    "El preprocesamiento de los datos se realiza en el archivo *img_encoder.ipynb*, el cual genera los archivos *json* en la carpeta *encodes* a partir de la base de datos."
   ]
  },
  {
   "cell_type": "markdown",
   "metadata": {},
   "source": [
    "Variales globales necesarias para la experimentación."
   ]
  },
  {
   "cell_type": "code",
   "execution_count": 2,
   "metadata": {},
   "outputs": [],
   "source": [
    "PATH = getcwd() \n",
    "PATH_ERR = PATH + \"/errors\"\n",
    "PATH_DAT = PATH + \"/encodes\""
   ]
  },
  {
   "cell_type": "markdown",
   "metadata": {},
   "source": [
    "## Clase *ErrorViewer*\n",
    "Esta clase mostrará las gráficas de errores tanto en entrenamiento como en validación, y procesará las salidas obtenidas por el modelo para cada dato en entrenamiento, validación y testeo, con el fin de obtener la presición del modelo entrenado."
   ]
  },
  {
   "cell_type": "code",
   "execution_count": 3,
   "metadata": {},
   "outputs": [],
   "source": [
    "class ErrorViewer:\n",
    "\n",
    "    def __init__(self, file_label: str):\n",
    "        self.err_keys = ['errors_training', 'errors_validation']\n",
    "        self.out_keys = ['output_testing', 'output_training', 'output_validation']\n",
    "        if not file_label.endswith(\".json\"):\n",
    "            file_label += \".json\"\n",
    "        self.err_info = json.load(open(PATH_ERR + \"/\" + file_label))\n",
    "        self.file_label = file_label\n",
    "\n",
    "    def calc_error(self):\n",
    "        print(f\"[ErrorViewer]: Se van a graficar los datos de '{self.file_label}'.\")\n",
    "        plt.plot(self.err_info[self.err_keys[0]], label=\"Training\")\n",
    "        plt.plot(self.err_info[self.err_keys[1]], label=\"Validation\")\n",
    "        plt.legend()\n",
    "        plt.xlabel(\"Epoch\")\n",
    "        plt.ylabel(\"Error\")\n",
    "        plt.show()\n",
    "\n",
    "    def perf_analysis(self, data_label: str):\n",
    "        print(f\"[ErrorViewer]: Se van a clasificar los datos de '{data_label}'.\")\n",
    "        if not data_label.endswith(\".json\"):\n",
    "            data_label += \".json\"\n",
    "        path_to_data = PATH_DAT + \"/\" + data_label\n",
    "        data_info = json.load(open(path_to_data))\n",
    "        self.__calc_stats(data_info)\n",
    "\n",
    "    def __calc_stats(self,data_info: dict):\n",
    "        class_labels = [\"Test\", \"Train\", \"Validation\"]\n",
    "        real_classes = [data_info[cl][\"Classes\"] for cl in class_labels]\n",
    "        pred_classes = [self.err_info[cl] for cl in self.out_keys]\n",
    "        curr_class = 0\n",
    "        for o,c in zip(pred_classes, real_classes):\n",
    "            tn, fn, fp, tp = 0,0,0,0\n",
    "            pred_values = [tn,fn,fp,tp]\n",
    "            for y_pred,y_real in zip(o,c):\n",
    "                pred_class = max(y_pred)\n",
    "                y_pred = [int(x==pred_class) for x in y_pred]\n",
    "                pred_iter = metrics.confusion_matrix(y_real, y_pred).ravel()\n",
    "                pred_values = [x + x_iter for x,x_iter in zip(pred_values, pred_iter)]\n",
    "            tn, fn, fp, tp = pred_values\n",
    "            accuracy = (tp + tn) / (tp + fp + fn + tn) * 100.0\n",
    "            precision = tp  / (tp + fp) * 100.0\n",
    "            recall = tp / (tp + fn) * 100.0\n",
    "            f1_score = 2 * (recall * precision) / (recall + precision)\n",
    "            print(f\"[ErrorViewer] On {class_labels[curr_class]}:\")\n",
    "            print(f\"\\t[ErrorViewer] ACCURACY = {round(accuracy,3)} %\")\n",
    "            print(f\"\\t[ErrorViewer] PRECISION = {round(precision,3)} %\")\n",
    "            print(f\"\\t[ErrorViewer] RECALL = {round(recall,3)} %\")\n",
    "            print(f\"\\t[ErrorViewer] F1 SCORE = {round(f1_score,3)} %\")\n",
    "            print(f\"\\t[ErrorViewer] Values are tn,fn,fp,tp = {pred_values} %\")\n",
    "            curr_class += 1"
   ]
  },
  {
   "cell_type": "markdown",
   "metadata": {},
   "source": [
    "## Experimentos"
   ]
  },
  {
   "cell_type": "markdown",
   "metadata": {},
   "source": [
    "El *dataset* de los archivos de la carpeta *encodes* consta de 73 características por dato, y 10 clases de salida."
   ]
  },
  {
   "cell_type": "markdown",
   "metadata": {},
   "source": [
    "### Experimento 1: función sigmoidea\n",
    "#### Experimento 1.1: \n",
    "Se crea un modelo MLP de una capa de 35 neuronas."
   ]
  },
  {
   "cell_type": "code",
   "execution_count": 19,
   "metadata": {},
   "outputs": [],
   "source": [
    "FILE_IN = 'img_encodings_1.json'\n",
    "FILE_OUT = 'error_11'\n",
    "NEURONS = '1 35'\n",
    "ACT_FUNCTION = 'sigmoid'\n",
    "EPOCH = '500'\n",
    "LEARNING_COEF = '0.0085'\n",
    "SEED = '1'"
   ]
  },
  {
   "cell_type": "code",
   "execution_count": null,
   "metadata": {},
   "outputs": [],
   "source": [
    "os.system('./main.out encodes/' + FILE_IN + ' errors/' + FILE_OUT + ' ' + NEURONS + ' ' + ACT_FUNCTION + ' ' + EPOCH + ' ' + LEARNING_COEF + ' 0 ' + SEED)"
   ]
  },
  {
   "cell_type": "code",
   "execution_count": 20,
   "metadata": {},
   "outputs": [
    {
     "name": "stdout",
     "output_type": "stream",
     "text": [
      "[ErrorViewer]: Se van a graficar los datos de 'error_11_sigmoid.json'.\n"
     ]
    },
    {
     "data": {
      "image/png": "[encoded data removed]",
      "text/plain": [
       "<Figure size 432x288 with 1 Axes>"
      ]
     },
     "metadata": {
      "needs_background": "light"
     },
     "output_type": "display_data"
    },
    {
     "name": "stdout",
     "output_type": "stream",
     "text": [
      "[ErrorViewer]: Se van a clasificar los datos de 'img_encodings_1.json'.\n",
      "[ErrorViewer] On Test:\n",
      "\t[ErrorViewer] ACCURACY = 82.381 %\n",
      "\t[ErrorViewer] PRECISION = 6.757 %\n",
      "\t[ErrorViewer] RECALL = 5.952 %\n",
      "\t[ErrorViewer] F1 SCORE = 6.329 %\n",
      "\t[ErrorViewer] Values are tn,fn,fp,tp = [687, 79, 69, 5] %\n",
      "[ErrorViewer] On Train:\n",
      "\t[ErrorViewer] ACCURACY = 93.714 %\n",
      "\t[ErrorViewer] PRECISION = 70.598 %\n",
      "\t[ErrorViewer] RECALL = 63.814 %\n",
      "\t[ErrorViewer] F1 SCORE = 67.035 %\n",
      "\t[ErrorViewer] Values are tn,fn,fp,tp = [5807, 241, 177, 425] %\n",
      "[ErrorViewer] On Validation:\n",
      "\t[ErrorViewer] ACCURACY = 88.072 %\n",
      "\t[ErrorViewer] PRECISION = 38.889 %\n",
      "\t[ErrorViewer] RECALL = 33.735 %\n",
      "\t[ErrorViewer] F1 SCORE = 36.129 %\n",
      "\t[ErrorViewer] Values are tn,fn,fp,tp = [703, 55, 44, 28] %\n"
     ]
    }
   ],
   "source": [
    "ev = ErrorViewer(FILE_OUT + '_' + ACT_FUNCTION)\n",
    "ev.calc_error()\n",
    "ev.perf_analysis(FILE_IN)"
   ]
  },
  {
   "cell_type": "markdown",
   "metadata": {},
   "source": [
    "#### Experimento 1.2: \n",
    "Se crea un modelo MLP de dos capas, de 50 y 20 neuronas respectivamente."
   ]
  },
  {
   "cell_type": "code",
   "execution_count": 82,
   "metadata": {},
   "outputs": [],
   "source": [
    "FILE_IN = 'img_encodings_1.json'\n",
    "FILE_OUT = 'error_12'\n",
    "NEURONS = '2 50 20'\n",
    "ACT_FUNCTION = 'sigmoid'\n",
    "EPOCH = '130'\n",
    "LEARNING_COEF = '0.0055'\n",
    "SEED = '1'"
   ]
  },
  {
   "cell_type": "code",
   "execution_count": 83,
   "metadata": {},
   "outputs": [
    {
     "name": "stdout",
     "output_type": "stream",
     "text": [
      "sigmoid finish\n"
     ]
    },
    {
     "data": {
      "text/plain": [
       "0"
      ]
     },
     "execution_count": 83,
     "metadata": {},
     "output_type": "execute_result"
    }
   ],
   "source": [
    "os.system('./main.out encodes/' + FILE_IN + ' errors/' + FILE_OUT + ' ' + NEURONS + ' ' + ACT_FUNCTION + ' ' + EPOCH + ' ' + LEARNING_COEF + ' 0 ' + SEED)"
   ]
  },
  {
   "cell_type": "code",
   "execution_count": 84,
   "metadata": {},
   "outputs": [
    {
     "name": "stdout",
     "output_type": "stream",
     "text": [
      "[ErrorViewer]: Se van a graficar los datos de 'error_12_sigmoid.json'.\n"
     ]
    },
    {
     "data": {
      "image/png": "[encoded data removed]",
      "text/plain": [
       "<Figure size 432x288 with 1 Axes>"
      ]
     },
     "metadata": {
      "needs_background": "light"
     },
     "output_type": "display_data"
    },
    {
     "name": "stdout",
     "output_type": "stream",
     "text": [
      "[ErrorViewer]: Se van a clasificar los datos de 'img_encodings_1.json'.\n",
      "[ErrorViewer] On Test:\n",
      "\t[ErrorViewer] ACCURACY = 83.571 %\n",
      "\t[ErrorViewer] PRECISION = 13.514 %\n",
      "\t[ErrorViewer] RECALL = 11.905 %\n",
      "\t[ErrorViewer] F1 SCORE = 12.658 %\n",
      "\t[ErrorViewer] Values are tn,fn,fp,tp = [692, 74, 64, 10] %\n",
      "[ErrorViewer] On Train:\n",
      "\t[ErrorViewer] ACCURACY = 86.632 %\n",
      "\t[ErrorViewer] PRECISION = 31.395 %\n",
      "\t[ErrorViewer] RECALL = 28.421 %\n",
      "\t[ErrorViewer] F1 SCORE = 29.834 %\n",
      "\t[ErrorViewer] Values are tn,fn,fp,tp = [5572, 476, 413, 189] %\n",
      "[ErrorViewer] On Validation:\n",
      "\t[ErrorViewer] ACCURACY = 85.422 %\n",
      "\t[ErrorViewer] PRECISION = 23.611 %\n",
      "\t[ErrorViewer] RECALL = 20.482 %\n",
      "\t[ErrorViewer] F1 SCORE = 21.935 %\n",
      "\t[ErrorViewer] Values are tn,fn,fp,tp = [692, 66, 55, 17] %\n"
     ]
    }
   ],
   "source": [
    "ev = ErrorViewer(FILE_OUT + '_' + ACT_FUNCTION)\n",
    "ev.calc_error()\n",
    "ev.perf_analysis(FILE_IN)"
   ]
  },
  {
   "cell_type": "markdown",
   "metadata": {},
   "source": [
    "#### Experimento 1.3: \n",
    "Se crea un modelo MLP de cuatro capas, de 60, 45, 30 y 15 neuronas respectivamente."
   ]
  },
  {
   "cell_type": "code",
   "execution_count": 97,
   "metadata": {},
   "outputs": [],
   "source": [
    "FILE_IN = 'img_encodings_1.json'\n",
    "FILE_OUT = 'error_13'\n",
    "NEURONS = '4 60 45 30 15'\n",
    "ACT_FUNCTION = 'sigmoid'\n",
    "EPOCH = '190'\n",
    "LEARNING_COEF = '0.0055'\n",
    "SEED = '1'"
   ]
  },
  {
   "cell_type": "code",
   "execution_count": 98,
   "metadata": {},
   "outputs": [
    {
     "name": "stdout",
     "output_type": "stream",
     "text": [
      "sigmoid finish\n"
     ]
    },
    {
     "data": {
      "text/plain": [
       "0"
      ]
     },
     "execution_count": 98,
     "metadata": {},
     "output_type": "execute_result"
    }
   ],
   "source": [
    "os.system('./main.out encodes/' + FILE_IN + ' errors/' + FILE_OUT + ' ' + NEURONS + ' ' + ACT_FUNCTION + ' ' + EPOCH + ' ' + LEARNING_COEF + ' 0 ' + SEED)"
   ]
  },
  {
   "cell_type": "code",
   "execution_count": 99,
   "metadata": {},
   "outputs": [
    {
     "name": "stdout",
     "output_type": "stream",
     "text": [
      "[ErrorViewer]: Se van a graficar los datos de 'error_13_sigmoid.json'.\n"
     ]
    },
    {
     "data": {
      "image/png": "[encoded data removed]",
      "text/plain": [
       "<Figure size 432x288 with 1 Axes>"
      ]
     },
     "metadata": {
      "needs_background": "light"
     },
     "output_type": "display_data"
    },
    {
     "name": "stdout",
     "output_type": "stream",
     "text": [
      "[ErrorViewer]: Se van a clasificar los datos de 'img_encodings_1.json'.\n",
      "[ErrorViewer] On Test:\n",
      "\t[ErrorViewer] ACCURACY = 83.095 %\n",
      "\t[ErrorViewer] PRECISION = 10.811 %\n",
      "\t[ErrorViewer] RECALL = 9.524 %\n",
      "\t[ErrorViewer] F1 SCORE = 10.127 %\n",
      "\t[ErrorViewer] Values are tn,fn,fp,tp = [690, 76, 66, 8] %\n",
      "[ErrorViewer] On Train:\n",
      "\t[ErrorViewer] ACCURACY = 85.158 %\n",
      "\t[ErrorViewer] PRECISION = 23.256 %\n",
      "\t[ErrorViewer] RECALL = 21.053 %\n",
      "\t[ErrorViewer] F1 SCORE = 22.099 %\n",
      "\t[ErrorViewer] Values are tn,fn,fp,tp = [5523, 525, 462, 140] %\n",
      "[ErrorViewer] On Validation:\n",
      "\t[ErrorViewer] ACCURACY = 85.181 %\n",
      "\t[ErrorViewer] PRECISION = 22.222 %\n",
      "\t[ErrorViewer] RECALL = 19.277 %\n",
      "\t[ErrorViewer] F1 SCORE = 20.645 %\n",
      "\t[ErrorViewer] Values are tn,fn,fp,tp = [691, 67, 56, 16] %\n"
     ]
    }
   ],
   "source": [
    "ev = ErrorViewer(FILE_OUT + '_' + ACT_FUNCTION)\n",
    "ev.calc_error()\n",
    "ev.perf_analysis(FILE_IN)"
   ]
  },
  {
   "cell_type": "markdown",
   "metadata": {},
   "source": [
    "### Experimento 2: función tangente hiperbólica\n",
    "#### Experimento 2.1: \n",
    "Se crea un modelo MLP de una capa de 35 neuronas."
   ]
  },
  {
   "cell_type": "code",
   "execution_count": null,
   "metadata": {},
   "outputs": [],
   "source": []
  },
  {
   "cell_type": "code",
   "execution_count": null,
   "metadata": {},
   "outputs": [],
   "source": []
  },
  {
   "cell_type": "code",
   "execution_count": null,
   "metadata": {},
   "outputs": [],
   "source": []
  },
  {
   "cell_type": "markdown",
   "metadata": {},
   "source": [
    "#### Experimento 2.2: \n",
    "Se crea un modelo MLP de dos capas, de 50 y 20 neuronas respectivamente."
   ]
  },
  {
   "cell_type": "code",
   "execution_count": null,
   "metadata": {},
   "outputs": [],
   "source": []
  },
  {
   "cell_type": "code",
   "execution_count": null,
   "metadata": {},
   "outputs": [],
   "source": []
  },
  {
   "cell_type": "code",
   "execution_count": null,
   "metadata": {},
   "outputs": [],
   "source": []
  },
  {
   "cell_type": "markdown",
   "metadata": {},
   "source": [
    "#### Experimento 2.3: \n",
    "Se crea un modelo MLP de cuatro capas, de 60, 45, 30 y 15 neuronas respectivamente."
   ]
  },
  {
   "cell_type": "code",
   "execution_count": null,
   "metadata": {},
   "outputs": [],
   "source": []
  },
  {
   "cell_type": "code",
   "execution_count": null,
   "metadata": {},
   "outputs": [],
   "source": []
  },
  {
   "cell_type": "code",
   "execution_count": null,
   "metadata": {},
   "outputs": [],
   "source": []
  },
  {
   "cell_type": "markdown",
   "metadata": {},
   "source": [
    "### Experimento 3: función relu\n",
    "#### Experimento 3.1: \n",
    "Se crea un modelo MLP de una capa de 35 neuronas."
   ]
  },
  {
   "cell_type": "code",
   "execution_count": 146,
   "metadata": {},
   "outputs": [],
   "source": [
    "FILE_IN = 'img_encodings_3.json'\n",
    "FILE_OUT = 'error_31'\n",
    "NEURONS = '1 35'\n",
    "ACT_FUNCTION = 'relu'\n",
    "EPOCH = '50'\n",
    "LEARNING_COEF = '0.000025'\n",
    "SEED = '1'"
   ]
  },
  {
   "cell_type": "code",
   "execution_count": 147,
   "metadata": {},
   "outputs": [
    {
     "name": "stdout",
     "output_type": "stream",
     "text": [
      "relu finish\n"
     ]
    },
    {
     "data": {
      "text/plain": [
       "0"
      ]
     },
     "execution_count": 147,
     "metadata": {},
     "output_type": "execute_result"
    }
   ],
   "source": [
    "os.system('./main.out encodes/' + FILE_IN + ' errors/' + FILE_OUT + ' ' + NEURONS + ' ' + ACT_FUNCTION + ' ' + EPOCH + ' ' + LEARNING_COEF + ' 0 ' + SEED)"
   ]
  },
  {
   "cell_type": "code",
   "execution_count": 148,
   "metadata": {},
   "outputs": [
    {
     "name": "stdout",
     "output_type": "stream",
     "text": [
      "[ErrorViewer]: Se van a graficar los datos de 'error_31_relu.json'.\n"
     ]
    },
    {
     "data": {
      "image/png": "[encoded data removed]",
      "text/plain": [
       "<Figure size 432x288 with 1 Axes>"
      ]
     },
     "metadata": {
      "needs_background": "light"
     },
     "output_type": "display_data"
    },
    {
     "name": "stdout",
     "output_type": "stream",
     "text": [
      "[ErrorViewer]: Se van a clasificar los datos de 'img_encodings_3.json'.\n",
      "[ErrorViewer] On Test:\n",
      "\t[ErrorViewer] ACCURACY = 49.048 %\n",
      "\t[ErrorViewer] PRECISION = 54.93 %\n",
      "\t[ErrorViewer] RECALL = 8.966 %\n",
      "\t[ErrorViewer] F1 SCORE = 15.415 %\n",
      "\t[ErrorViewer] Values are tn,fn,fp,tp = [373, 396, 32, 39] %\n",
      "[ErrorViewer] On Train:\n",
      "\t[ErrorViewer] ACCURACY = 50.135 %\n",
      "\t[ErrorViewer] PRECISION = 56.312 %\n",
      "\t[ErrorViewer] RECALL = 9.994 %\n",
      "\t[ErrorViewer] F1 SCORE = 16.975 %\n",
      "\t[ErrorViewer] Values are tn,fn,fp,tp = [2995, 3053, 263, 339] %\n",
      "[ErrorViewer] On Validation:\n",
      "\t[ErrorViewer] ACCURACY = 58.675 %\n",
      "\t[ErrorViewer] PRECISION = 38.667 %\n",
      "\t[ErrorViewer] RECALL = 8.896 %\n",
      "\t[ErrorViewer] F1 SCORE = 14.464 %\n",
      "\t[ErrorViewer] Values are tn,fn,fp,tp = [458, 297, 46, 29] %\n"
     ]
    }
   ],
   "source": [
    "ev = ErrorViewer(FILE_OUT + '_' + ACT_FUNCTION)\n",
    "ev.calc_error()\n",
    "ev.perf_analysis(FILE_IN)"
   ]
  },
  {
   "cell_type": "markdown",
   "metadata": {},
   "source": [
    "#### Experimento 3.2: \n",
    "Se crea un modelo MLP de dos capas, de 50 y 20 neuronas respectivamente."
   ]
  },
  {
   "cell_type": "code",
   "execution_count": null,
   "metadata": {},
   "outputs": [],
   "source": [
    "FILE_IN = 'img_encodings_3.json'\n",
    "FILE_OUT = 'error_32'\n",
    "NEURONS = '2 50 20'\n",
    "ACT_FUNCTION = 'relu'\n",
    "EPOCH = '500'\n",
    "LEARNING_COEF = '0.0055'\n",
    "SEED = '1'"
   ]
  },
  {
   "cell_type": "code",
   "execution_count": null,
   "metadata": {},
   "outputs": [],
   "source": [
    "os.system('./main.out encodes/' + FILE_IN + ' errors/' + FILE_OUT + ' ' + NEURONS + ' ' + ACT_FUNCTION + ' ' + EPOCH + ' ' + LEARNING_COEF + ' 0 ' + SEED)"
   ]
  },
  {
   "cell_type": "code",
   "execution_count": null,
   "metadata": {},
   "outputs": [],
   "source": [
    "ev = ErrorViewer(FILE_OUT + '_' + ACT_FUNCTION)\n",
    "ev.calc_error()\n",
    "ev.perf_analysis(FILE_IN)"
   ]
  },
  {
   "cell_type": "markdown",
   "metadata": {},
   "source": [
    "#### Experimento 3.3: \n",
    "Se crea un modelo MLP de cuatro capas, de 60, 45, 30 y 15 neuronas respectivamente."
   ]
  },
  {
   "cell_type": "code",
   "execution_count": null,
   "metadata": {},
   "outputs": [],
   "source": [
    "FILE_IN = 'img_encodings_3.json'\n",
    "FILE_OUT = 'error_33'\n",
    "NEURONS = '4 60 45 30 15'\n",
    "ACT_FUNCTION = 'relu'\n",
    "EPOCH = '500'\n",
    "LEARNING_COEF = '0.0055'\n",
    "SEED = '1'"
   ]
  },
  {
   "cell_type": "code",
   "execution_count": null,
   "metadata": {},
   "outputs": [],
   "source": [
    "os.system('./main.out encodes/' + FILE_IN + ' errors/' + FILE_OUT + ' ' + NEURONS + ' ' + ACT_FUNCTION + ' ' + EPOCH + ' ' + LEARNING_COEF + ' 0 ' + SEED)"
   ]
  },
  {
   "cell_type": "code",
   "execution_count": null,
   "metadata": {},
   "outputs": [],
   "source": [
    "ev = ErrorViewer(FILE_OUT + '_' + ACT_FUNCTION)\n",
    "ev.calc_error()\n",
    "ev.perf_analysis(FILE_IN)"
   ]
  },
  {
   "cell_type": "markdown",
   "metadata": {},
   "source": [
    "### Experimento 4: dataset iris (4 características de entrada y 3 de salida)\n",
    "#### Experimento 4.1: \n",
    "Se crea un modelo MLP de una capa de 4 neuronas."
   ]
  },
  {
   "cell_type": "code",
   "execution_count": 164,
   "metadata": {},
   "outputs": [],
   "source": [
    "FILE_IN = 'dataset_iris.json'\n",
    "FILE_OUT = 'error_iris_1'\n",
    "NEURONS = '1 4'\n",
    "ACT_FUNCTION = 'sigmoid'\n",
    "EPOCH = '5000'\n",
    "LEARNING_COEF = '0.0001'\n",
    "SEED = '1'"
   ]
  },
  {
   "cell_type": "code",
   "execution_count": 165,
   "metadata": {},
   "outputs": [
    {
     "name": "stdout",
     "output_type": "stream",
     "text": [
      "sigmoid finish\n"
     ]
    },
    {
     "data": {
      "text/plain": [
       "0"
      ]
     },
     "execution_count": 165,
     "metadata": {},
     "output_type": "execute_result"
    }
   ],
   "source": [
    "os.system('./main.out encodes/' + FILE_IN + ' errors/' + FILE_OUT + ' ' + NEURONS + ' ' + ACT_FUNCTION + ' ' + EPOCH + ' ' + LEARNING_COEF + ' 0 ' + SEED)"
   ]
  },
  {
   "cell_type": "code",
   "execution_count": 166,
   "metadata": {},
   "outputs": [
    {
     "name": "stdout",
     "output_type": "stream",
     "text": [
      "[ErrorViewer]: Se van a graficar los datos de 'error_iris_sigmoid.json'.\n"
     ]
    },
    {
     "data": {
      "image/png": "[encoded data removed]",
      "text/plain": [
       "<Figure size 432x288 with 1 Axes>"
      ]
     },
     "metadata": {
      "needs_background": "light"
     },
     "output_type": "display_data"
    },
    {
     "name": "stdout",
     "output_type": "stream",
     "text": [
      "[ErrorViewer]: Se van a clasificar los datos de 'dataset_iris.json'.\n",
      "[ErrorViewer] On Test:\n",
      "\t[ErrorViewer] ACCURACY = 53.333 %\n",
      "\t[ErrorViewer] PRECISION = 53.333 %\n",
      "\t[ErrorViewer] RECALL = 36.364 %\n",
      "\t[ErrorViewer] F1 SCORE = 43.243 %\n",
      "\t[ErrorViewer] Values are tn,fn,fp,tp = [16, 14, 7, 8] %\n",
      "[ErrorViewer] On Train:\n",
      "\t[ErrorViewer] ACCURACY = 87.222 %\n",
      "\t[ErrorViewer] PRECISION = 98.333 %\n",
      "\t[ErrorViewer] RECALL = 72.84 %\n",
      "\t[ErrorViewer] F1 SCORE = 83.688 %\n",
      "\t[ErrorViewer] Values are tn,fn,fp,tp = [196, 44, 2, 118] %\n",
      "[ErrorViewer] On Validation:\n",
      "\t[ErrorViewer] ACCURACY = 86.667 %\n",
      "\t[ErrorViewer] PRECISION = 100.0 %\n",
      "\t[ErrorViewer] RECALL = 71.429 %\n",
      "\t[ErrorViewer] F1 SCORE = 83.333 %\n",
      "\t[ErrorViewer] Values are tn,fn,fp,tp = [24, 6, 0, 15] %\n"
     ]
    }
   ],
   "source": [
    "ev = ErrorViewer(FILE_OUT + '_' + ACT_FUNCTION)\n",
    "ev.calc_error()\n",
    "ev.perf_analysis(FILE_IN)"
   ]
  },
  {
   "cell_type": "markdown",
   "metadata": {},
   "source": [
    "#### Experimento 4.2: \n",
    "Se crea un modelo MLP de dos capas de 4 y 3 neuronas respectivamente."
   ]
  },
  {
   "cell_type": "code",
   "execution_count": 195,
   "metadata": {},
   "outputs": [],
   "source": [
    "FILE_IN = 'dataset_iris.json'\n",
    "FILE_OUT = 'error_iris_2'\n",
    "NEURONS = '2 4 3'\n",
    "ACT_FUNCTION = 'sigmoid'\n",
    "EPOCH = '500'\n",
    "LEARNING_COEF = '0.01'\n",
    "SEED = '1'"
   ]
  },
  {
   "cell_type": "code",
   "execution_count": 196,
   "metadata": {},
   "outputs": [
    {
     "name": "stdout",
     "output_type": "stream",
     "text": [
      "sigmoid finish\n"
     ]
    },
    {
     "data": {
      "text/plain": [
       "0"
      ]
     },
     "execution_count": 196,
     "metadata": {},
     "output_type": "execute_result"
    }
   ],
   "source": [
    "os.system('./main.out encodes/' + FILE_IN + ' errors/' + FILE_OUT + ' ' + NEURONS + ' ' + ACT_FUNCTION + ' ' + EPOCH + ' ' + LEARNING_COEF + ' 0 ' + SEED)"
   ]
  },
  {
   "cell_type": "code",
   "execution_count": 197,
   "metadata": {},
   "outputs": [
    {
     "name": "stdout",
     "output_type": "stream",
     "text": [
      "[ErrorViewer]: Se van a graficar los datos de 'error_iris_2_sigmoid.json'.\n"
     ]
    },
    {
     "data": {
      "image/png": "[encoded data removed]",
      "text/plain": [
       "<Figure size 432x288 with 1 Axes>"
      ]
     },
     "metadata": {
      "needs_background": "light"
     },
     "output_type": "display_data"
    },
    {
     "name": "stdout",
     "output_type": "stream",
     "text": [
      "[ErrorViewer]: Se van a clasificar los datos de 'dataset_iris.json'.\n",
      "[ErrorViewer] On Test:\n",
      "\t[ErrorViewer] ACCURACY = 46.667 %\n",
      "\t[ErrorViewer] PRECISION = 60.0 %\n",
      "\t[ErrorViewer] RECALL = 33.333 %\n",
      "\t[ErrorViewer] F1 SCORE = 42.857 %\n",
      "\t[ErrorViewer] Values are tn,fn,fp,tp = [12, 18, 6, 9] %\n",
      "[ErrorViewer] On Train:\n",
      "\t[ErrorViewer] ACCURACY = 77.222 %\n",
      "\t[ErrorViewer] PRECISION = 100.0 %\n",
      "\t[ErrorViewer] RECALL = 59.406 %\n",
      "\t[ErrorViewer] F1 SCORE = 74.534 %\n",
      "\t[ErrorViewer] Values are tn,fn,fp,tp = [158, 82, 0, 120] %\n",
      "[ErrorViewer] On Validation:\n",
      "\t[ErrorViewer] ACCURACY = 77.778 %\n",
      "\t[ErrorViewer] PRECISION = 100.0 %\n",
      "\t[ErrorViewer] RECALL = 60.0 %\n",
      "\t[ErrorViewer] F1 SCORE = 75.0 %\n",
      "\t[ErrorViewer] Values are tn,fn,fp,tp = [20, 10, 0, 15] %\n"
     ]
    }
   ],
   "source": [
    "ev = ErrorViewer(FILE_OUT + '_' + ACT_FUNCTION)\n",
    "ev.calc_error()\n",
    "ev.perf_analysis(FILE_IN)"
   ]
  },
  {
   "cell_type": "markdown",
   "metadata": {},
   "source": [
    "#### Experimento 4.3: \n",
    "Se crea un modelo MLP de cuatro capas de 4, 4, 3 y 3 neuronas respectivamente."
   ]
  },
  {
   "cell_type": "code",
   "execution_count": 222,
   "metadata": {},
   "outputs": [],
   "source": [
    "FILE_IN = 'dataset_iris.json'\n",
    "FILE_OUT = 'error_iris_3'\n",
    "NEURONS = '4 4 4 3 3'\n",
    "ACT_FUNCTION = 'sigmoid'\n",
    "EPOCH = '5000'\n",
    "LEARNING_COEF = '0.0000075'\n",
    "SEED = '1'"
   ]
  },
  {
   "cell_type": "code",
   "execution_count": 223,
   "metadata": {},
   "outputs": [
    {
     "name": "stdout",
     "output_type": "stream",
     "text": [
      "sigmoid finish\n"
     ]
    },
    {
     "data": {
      "text/plain": [
       "0"
      ]
     },
     "execution_count": 223,
     "metadata": {},
     "output_type": "execute_result"
    }
   ],
   "source": [
    "os.system('./main.out encodes/' + FILE_IN + ' errors/' + FILE_OUT + ' ' + NEURONS + ' ' + ACT_FUNCTION + ' ' + EPOCH + ' ' + LEARNING_COEF + ' 0 ' + SEED)"
   ]
  },
  {
   "cell_type": "code",
   "execution_count": 224,
   "metadata": {},
   "outputs": [
    {
     "name": "stdout",
     "output_type": "stream",
     "text": [
      "[ErrorViewer]: Se van a graficar los datos de 'error_iris_3_sigmoid.json'.\n"
     ]
    },
    {
     "data": {
      "image/png": "[encoded data removed]",
      "text/plain": [
       "<Figure size 432x288 with 1 Axes>"
      ]
     },
     "metadata": {
      "needs_background": "light"
     },
     "output_type": "display_data"
    },
    {
     "name": "stdout",
     "output_type": "stream",
     "text": [
      "[ErrorViewer]: Se van a clasificar los datos de 'dataset_iris.json'.\n",
      "[ErrorViewer] On Test:\n",
      "\t[ErrorViewer] ACCURACY = 55.556 %\n",
      "\t[ErrorViewer] PRECISION = 33.333 %\n",
      "\t[ErrorViewer] RECALL = 33.333 %\n",
      "\t[ErrorViewer] F1 SCORE = 33.333 %\n",
      "\t[ErrorViewer] Values are tn,fn,fp,tp = [20, 10, 10, 5] %\n",
      "[ErrorViewer] On Train:\n",
      "\t[ErrorViewer] ACCURACY = 56.111 %\n",
      "\t[ErrorViewer] PRECISION = 34.167 %\n",
      "\t[ErrorViewer] RECALL = 34.167 %\n",
      "\t[ErrorViewer] F1 SCORE = 34.167 %\n",
      "\t[ErrorViewer] Values are tn,fn,fp,tp = [161, 79, 79, 41] %\n",
      "[ErrorViewer] On Validation:\n",
      "\t[ErrorViewer] ACCURACY = 51.111 %\n",
      "\t[ErrorViewer] PRECISION = 26.667 %\n",
      "\t[ErrorViewer] RECALL = 26.667 %\n",
      "\t[ErrorViewer] F1 SCORE = 26.667 %\n",
      "\t[ErrorViewer] Values are tn,fn,fp,tp = [19, 11, 11, 4] %\n"
     ]
    }
   ],
   "source": [
    "ev = ErrorViewer(FILE_OUT + '_' + ACT_FUNCTION)\n",
    "ev.calc_error()\n",
    "ev.perf_analysis(FILE_IN)"
   ]
  },
  {
   "cell_type": "markdown",
   "metadata": {},
   "source": [
    "#### Experimento 4.4: \n",
    "Se crea un modelo MLP de una capa de 4 neuronas con la función tanh."
   ]
  },
  {
   "cell_type": "code",
   "execution_count": 228,
   "metadata": {},
   "outputs": [],
   "source": [
    "FILE_IN = 'dataset_iris.json'\n",
    "FILE_OUT = 'error_iris_4'\n",
    "NEURONS = '1 4'\n",
    "ACT_FUNCTION = 'tanh'\n",
    "EPOCH = '1000'\n",
    "LEARNING_COEF = '0.05'\n",
    "SEED = '1'"
   ]
  },
  {
   "cell_type": "code",
   "execution_count": 229,
   "metadata": {},
   "outputs": [
    {
     "name": "stdout",
     "output_type": "stream",
     "text": [
      "tanh finish\n"
     ]
    },
    {
     "data": {
      "text/plain": [
       "0"
      ]
     },
     "execution_count": 229,
     "metadata": {},
     "output_type": "execute_result"
    }
   ],
   "source": [
    "os.system('./main.out encodes/' + FILE_IN + ' errors/' + FILE_OUT + ' ' + NEURONS + ' ' + ACT_FUNCTION + ' ' + EPOCH + ' ' + LEARNING_COEF + ' 0 ' + SEED)"
   ]
  },
  {
   "cell_type": "code",
   "execution_count": 230,
   "metadata": {},
   "outputs": [
    {
     "name": "stdout",
     "output_type": "stream",
     "text": [
      "[ErrorViewer]: Se van a graficar los datos de 'error_iris_4_tanh.json'.\n"
     ]
    },
    {
     "data": {
      "image/png": "[encoded data removed]",
      "text/plain": [
       "<Figure size 432x288 with 1 Axes>"
      ]
     },
     "metadata": {
      "needs_background": "light"
     },
     "output_type": "display_data"
    },
    {
     "name": "stdout",
     "output_type": "stream",
     "text": [
      "[ErrorViewer]: Se van a clasificar los datos de 'dataset_iris.json'.\n",
      "[ErrorViewer] On Test:\n",
      "\t[ErrorViewer] ACCURACY = 46.667 %\n",
      "\t[ErrorViewer] PRECISION = 60.0 %\n",
      "\t[ErrorViewer] RECALL = 33.333 %\n",
      "\t[ErrorViewer] F1 SCORE = 42.857 %\n",
      "\t[ErrorViewer] Values are tn,fn,fp,tp = [12, 18, 6, 9] %\n",
      "[ErrorViewer] On Train:\n",
      "\t[ErrorViewer] ACCURACY = 77.222 %\n",
      "\t[ErrorViewer] PRECISION = 100.0 %\n",
      "\t[ErrorViewer] RECALL = 59.406 %\n",
      "\t[ErrorViewer] F1 SCORE = 74.534 %\n",
      "\t[ErrorViewer] Values are tn,fn,fp,tp = [158, 82, 0, 120] %\n",
      "[ErrorViewer] On Validation:\n",
      "\t[ErrorViewer] ACCURACY = 71.111 %\n",
      "\t[ErrorViewer] PRECISION = 93.333 %\n",
      "\t[ErrorViewer] RECALL = 53.846 %\n",
      "\t[ErrorViewer] F1 SCORE = 68.293 %\n",
      "\t[ErrorViewer] Values are tn,fn,fp,tp = [18, 12, 1, 14] %\n"
     ]
    }
   ],
   "source": [
    "ev = ErrorViewer(FILE_OUT + '_' + ACT_FUNCTION)\n",
    "ev.calc_error()\n",
    "ev.perf_analysis(FILE_IN)"
   ]
  },
  {
   "cell_type": "markdown",
   "metadata": {},
   "source": [
    "#### Experimento 4.5: \n",
    "Se crea un modelo MLP de una capa de 4 neuronas con la función relu."
   ]
  },
  {
   "cell_type": "code",
   "execution_count": 306,
   "metadata": {},
   "outputs": [],
   "source": [
    "FILE_IN = 'dataset_iris.json'\n",
    "FILE_OUT = 'error_iris_5'\n",
    "NEURONS = '1 4'\n",
    "ACT_FUNCTION = 'relu'\n",
    "EPOCH = '5000'\n",
    "LEARNING_COEF = '0.001'\n",
    "SEED = '1'"
   ]
  },
  {
   "cell_type": "code",
   "execution_count": 307,
   "metadata": {},
   "outputs": [
    {
     "name": "stdout",
     "output_type": "stream",
     "text": [
      "relu finish\n"
     ]
    },
    {
     "data": {
      "text/plain": [
       "0"
      ]
     },
     "execution_count": 307,
     "metadata": {},
     "output_type": "execute_result"
    }
   ],
   "source": [
    "os.system('./main.out encodes/' + FILE_IN + ' errors/' + FILE_OUT + ' ' + NEURONS + ' ' + ACT_FUNCTION + ' ' + EPOCH + ' ' + LEARNING_COEF + ' 0 ' + SEED)"
   ]
  },
  {
   "cell_type": "code",
   "execution_count": 308,
   "metadata": {},
   "outputs": [
    {
     "name": "stdout",
     "output_type": "stream",
     "text": [
      "[ErrorViewer]: Se van a graficar los datos de 'error_iris_5_relu.json'.\n"
     ]
    },
    {
     "data": {
      "image/png": "[encoded data removed]",
      "text/plain": [
       "<Figure size 432x288 with 1 Axes>"
      ]
     },
     "metadata": {
      "needs_background": "light"
     },
     "output_type": "display_data"
    },
    {
     "name": "stdout",
     "output_type": "stream",
     "text": [
      "[ErrorViewer]: Se van a clasificar los datos de 'dataset_iris.json'.\n",
      "[ErrorViewer] On Test:\n",
      "\t[ErrorViewer] ACCURACY = 42.222 %\n",
      "\t[ErrorViewer] PRECISION = 93.333 %\n",
      "\t[ErrorViewer] RECALL = 35.897 %\n",
      "\t[ErrorViewer] F1 SCORE = 51.852 %\n",
      "\t[ErrorViewer] Values are tn,fn,fp,tp = [5, 25, 1, 14] %\n",
      "[ErrorViewer] On Train:\n",
      "\t[ErrorViewer] ACCURACY = 54.444 %\n",
      "\t[ErrorViewer] PRECISION = 100.0 %\n",
      "\t[ErrorViewer] RECALL = 42.254 %\n",
      "\t[ErrorViewer] F1 SCORE = 59.406 %\n",
      "\t[ErrorViewer] Values are tn,fn,fp,tp = [76, 164, 0, 120] %\n",
      "[ErrorViewer] On Validation:\n",
      "\t[ErrorViewer] ACCURACY = 55.556 %\n",
      "\t[ErrorViewer] PRECISION = 100.0 %\n",
      "\t[ErrorViewer] RECALL = 42.857 %\n",
      "\t[ErrorViewer] F1 SCORE = 60.0 %\n",
      "\t[ErrorViewer] Values are tn,fn,fp,tp = [10, 20, 0, 15] %\n"
     ]
    }
   ],
   "source": [
    "ev = ErrorViewer(FILE_OUT + '_' + ACT_FUNCTION)\n",
    "ev.calc_error()\n",
    "ev.perf_analysis(FILE_IN)"
   ]
  },
  {
   "cell_type": "markdown",
   "metadata": {},
   "source": [
    "#### Experimento 4.6: \n",
    "Se crea un modelo MLP de dos capas de 4, 4 neuronas por capa respectivamente, con la función relu."
   ]
  },
  {
   "cell_type": "code",
   "execution_count": 285,
   "metadata": {},
   "outputs": [],
   "source": [
    "FILE_IN = 'dataset_iris.json'\n",
    "FILE_OUT = 'error_iris_6'\n",
    "NEURONS = '2 4 4'\n",
    "ACT_FUNCTION = 'relu'\n",
    "EPOCH = '10000'\n",
    "LEARNING_COEF = '0.00000005'\n",
    "SEED = '1'"
   ]
  },
  {
   "cell_type": "code",
   "execution_count": 286,
   "metadata": {},
   "outputs": [
    {
     "name": "stdout",
     "output_type": "stream",
     "text": [
      "relu finish\n"
     ]
    },
    {
     "data": {
      "text/plain": [
       "0"
      ]
     },
     "execution_count": 286,
     "metadata": {},
     "output_type": "execute_result"
    }
   ],
   "source": [
    "os.system('./main.out encodes/' + FILE_IN + ' errors/' + FILE_OUT + ' ' + NEURONS + ' ' + ACT_FUNCTION + ' ' + EPOCH + ' ' + LEARNING_COEF + ' 0 ' + SEED)"
   ]
  },
  {
   "cell_type": "code",
   "execution_count": 287,
   "metadata": {},
   "outputs": [
    {
     "name": "stdout",
     "output_type": "stream",
     "text": [
      "[ErrorViewer]: Se van a graficar los datos de 'error_iris_6_relu.json'.\n"
     ]
    },
    {
     "data": {
      "image/png": "[encoded data removed]",
      "text/plain": [
       "<Figure size 432x288 with 1 Axes>"
      ]
     },
     "metadata": {
      "needs_background": "light"
     },
     "output_type": "display_data"
    },
    {
     "name": "stdout",
     "output_type": "stream",
     "text": [
      "[ErrorViewer]: Se van a clasificar los datos de 'dataset_iris.json'.\n",
      "[ErrorViewer] On Test:\n",
      "\t[ErrorViewer] ACCURACY = 64.444 %\n",
      "\t[ErrorViewer] PRECISION = 53.333 %\n",
      "\t[ErrorViewer] RECALL = 47.059 %\n",
      "\t[ErrorViewer] F1 SCORE = 50.0 %\n",
      "\t[ErrorViewer] Values are tn,fn,fp,tp = [21, 9, 7, 8] %\n",
      "[ErrorViewer] On Train:\n",
      "\t[ErrorViewer] ACCURACY = 77.222 %\n",
      "\t[ErrorViewer] PRECISION = 67.5 %\n",
      "\t[ErrorViewer] RECALL = 65.323 %\n",
      "\t[ErrorViewer] F1 SCORE = 66.393 %\n",
      "\t[ErrorViewer] Values are tn,fn,fp,tp = [197, 43, 39, 81] %\n",
      "[ErrorViewer] On Validation:\n",
      "\t[ErrorViewer] ACCURACY = 82.222 %\n",
      "\t[ErrorViewer] PRECISION = 73.333 %\n",
      "\t[ErrorViewer] RECALL = 73.333 %\n",
      "\t[ErrorViewer] F1 SCORE = 73.333 %\n",
      "\t[ErrorViewer] Values are tn,fn,fp,tp = [26, 4, 4, 11] %\n"
     ]
    }
   ],
   "source": [
    "ev = ErrorViewer(FILE_OUT + '_' + ACT_FUNCTION)\n",
    "ev.calc_error()\n",
    "ev.perf_analysis(FILE_IN)"
   ]
  }
 ],
 "metadata": {
  "kernelspec": {
   "display_name": "Python 3.8.10 64-bit",
   "language": "python",
   "name": "python3"
  },
  "language_info": {
   "codemirror_mode": {
    "name": "ipython",
    "version": 3
   },
   "file_extension": ".py",
   "mimetype": "text/x-python",
   "name": "python",
   "nbconvert_exporter": "python",
   "pygments_lexer": "ipython3",
   "version": "3.8.10"
  },
  "orig_nbformat": 4,
  "vscode": {
   "interpreter": {
    "hash": "916dbcbb3f70747c44a77c7bcd40155683ae19c65e1c03b4aa3499c5328201f1"
   }
  }
 },
 "nbformat": 4,
 "nbformat_minor": 2
}
