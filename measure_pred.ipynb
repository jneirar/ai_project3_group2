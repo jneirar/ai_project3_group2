{
 "cells": [
  {
   "cell_type": "code",
   "execution_count": 1,
   "metadata": {},
   "outputs": [],
   "source": [
    "import json\n",
    "from os import getcwd, listdir\n",
    "%matplotlib inline\n",
    "import matplotlib.pyplot as plt"
   ]
  },
  {
   "cell_type": "code",
   "execution_count": 2,
   "metadata": {},
   "outputs": [],
   "source": [
    "PATH = getcwd() + \"/errors\""
   ]
  },
  {
   "cell_type": "code",
   "execution_count": 6,
   "metadata": {},
   "outputs": [
    {
     "ename": "SyntaxError",
     "evalue": "unexpected EOF while parsing (956881529.py, line 25)",
     "output_type": "error",
     "traceback": [
      "\u001b[0;36m  File \u001b[0;32m\"/tmp/ipykernel_13816/956881529.py\"\u001b[0;36m, line \u001b[0;32m25\u001b[0m\n\u001b[0;31m    def __plot_matrix(self, file: str):\u001b[0m\n\u001b[0m                                       ^\u001b[0m\n\u001b[0;31mSyntaxError\u001b[0m\u001b[0;31m:\u001b[0m unexpected EOF while parsing\n"
     ]
    }
   ],
   "source": [
    "class ErrorViewer:\n",
    "\n",
    "    def __init__(self):\n",
    "        self.err_keys = ['errors_training', 'errors_validation']\n",
    "        self.out_keys = ['output_testing', 'output_training', 'output_validation']\n",
    "        self.err_info = dict()\n",
    "\n",
    "    def calc_error(self,model: str):\n",
    "        err_files = listdir(PATH)\n",
    "        for file in err_files:\n",
    "            if not file.endswith(f\"{model}.json\"):\n",
    "                continue\n",
    "            print(f\"[ErrorViewer]: Se van a graficar los datos de {file}.\")\n",
    "            path_to_file = PATH + \"/\" + file\n",
    "            err_info = json.load(open(path_to_file))\n",
    "            self.__plot_error(err_info, file)\n",
    "            self.__plot_matrix(err_info, file)\n",
    "\n",
    "    def __plot_error(self,err_info: dict, file: str):\n",
    "        for e in self.err_keys:\n",
    "            _, ax = plt.subplots()\n",
    "            ax.plot(err_info[e])\n",
    "            ax.set(xlabel='X', ylabel='Y', title = f\"{file}: {e[7:].capitalize()}\")\n",
    "            plt.show()\n",
    "\n",
    "    def __plot_matrix(self,err_info: dict, file: str):\n",
    "        for o in self.out_keys:\n",
    "            pass"
   ]
  },
  {
   "cell_type": "code",
   "execution_count": 5,
   "metadata": {},
   "outputs": [
    {
     "ename": "AttributeError",
     "evalue": "'ErrorViewer' object has no attribute 'calc_error'",
     "output_type": "error",
     "traceback": [
      "\u001b[0;31m---------------------------------------------------------------------------\u001b[0m",
      "\u001b[0;31mAttributeError\u001b[0m                            Traceback (most recent call last)",
      "\u001b[0;32m/tmp/ipykernel_13816/2978234591.py\u001b[0m in \u001b[0;36m<module>\u001b[0;34m\u001b[0m\n\u001b[1;32m      1\u001b[0m \u001b[0mev\u001b[0m \u001b[0;34m=\u001b[0m \u001b[0mErrorViewer\u001b[0m\u001b[0;34m(\u001b[0m\u001b[0;34m)\u001b[0m\u001b[0;34m\u001b[0m\u001b[0;34m\u001b[0m\u001b[0m\n\u001b[0;32m----> 2\u001b[0;31m \u001b[0mev\u001b[0m\u001b[0;34m.\u001b[0m\u001b[0mcalc_error\u001b[0m\u001b[0;34m(\u001b[0m\u001b[0;34m\"relu\"\u001b[0m\u001b[0;34m)\u001b[0m\u001b[0;34m\u001b[0m\u001b[0;34m\u001b[0m\u001b[0m\n\u001b[0m",
      "\u001b[0;31mAttributeError\u001b[0m: 'ErrorViewer' object has no attribute 'calc_error'"
     ]
    }
   ],
   "source": [
    "ev = ErrorViewer()\n",
    "ev.calc_error(\"relu\")"
   ]
  }
 ],
 "metadata": {
  "kernelspec": {
   "display_name": "Python 3.8.10 64-bit",
   "language": "python",
   "name": "python3"
  },
  "language_info": {
   "codemirror_mode": {
    "name": "ipython",
    "version": 3
   },
   "file_extension": ".py",
   "mimetype": "text/x-python",
   "name": "python",
   "nbconvert_exporter": "python",
   "pygments_lexer": "ipython3",
   "version": "3.8.10"
  },
  "orig_nbformat": 4,
  "vscode": {
   "interpreter": {
    "hash": "916dbcbb3f70747c44a77c7bcd40155683ae19c65e1c03b4aa3499c5328201f1"
   }
  }
 },
 "nbformat": 4,
 "nbformat_minor": 2
}
